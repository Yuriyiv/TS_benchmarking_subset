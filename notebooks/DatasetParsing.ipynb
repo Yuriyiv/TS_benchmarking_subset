{
 "cells": [
  {
   "cell_type": "markdown",
   "id": "acaf3858-a88f-4e2a-8235-c0104615b036",
   "metadata": {},
   "source": [
    "### Part 1: Downloading Metrics From Papers"
   ]
  },
  {
   "cell_type": "code",
   "execution_count": 1,
   "id": "bb0f8174-61a9-4a9b-afd7-89bb837b11ab",
   "metadata": {},
   "outputs": [],
   "source": [
    "import os\n",
    "import pandas as pd\n",
    "import numpy as np\n",
    "\n",
    "cur_dir = os.getcwd().split('/')\n",
    "if cur_dir[-1] == 'notebooks':\n",
    "    os.chdir(\"..\")\n",
    "\n",
    "from src.data_loader import get_html_page_and_prepare_soup, get_content_list_from_html, load_model_results \n",
    "from src.data_stats import find_shape_of_datasets"
   ]
  },
  {
   "cell_type": "code",
   "execution_count": 2,
   "id": "7848c7d1-38b5-425c-8c73-ebb55f736385",
   "metadata": {},
   "outputs": [],
   "source": [
    "def make_dir_if_not_exist(dir_name):\n",
    "    if not os.path.isdir(dir_name):\n",
    "        os.mkdir(dir_name)"
   ]
  },
  {
   "cell_type": "code",
   "execution_count": 3,
   "id": "b485ea30-978b-47b1-b0ee-bcff87276e1e",
   "metadata": {},
   "outputs": [],
   "source": [
    "DATA_DIR_NAME = 'papers'\n",
    "DATASET_DIR_NAME = DATA_DIR_NAME + '/' + 'datasets'\n",
    "METRICS_DIR_NAME = DATA_DIR_NAME + '/' + 'metrics'\n",
    "\n",
    "make_dir_if_not_exist(DATA_DIR_NAME)\n",
    "make_dir_if_not_exist(DATASET_DIR_NAME)\n",
    "make_dir_if_not_exist(METRICS_DIR_NAME)"
   ]
  },
  {
   "cell_type": "code",
   "execution_count": 4,
   "id": "5b9b7f1c-e744-4593-bfba-30f1005f8bae",
   "metadata": {},
   "outputs": [
    {
     "data": {
      "text/plain": [
       "'papers/metrics'"
      ]
     },
     "execution_count": 4,
     "metadata": {},
     "output_type": "execute_result"
    }
   ],
   "source": [
    "METRICS_DIR_NAME"
   ]
  },
  {
   "cell_type": "code",
   "execution_count": 5,
   "id": "22c0c4ea-3e55-446d-8874-5630df3eca49",
   "metadata": {},
   "outputs": [],
   "source": [
    "page_link = \"https://timeseriesclassification.com/results/PublishedResults/\"\n",
    "\n",
    "soup_main = get_html_page_and_prepare_soup(page_link)"
   ]
  },
  {
   "cell_type": "code",
   "execution_count": 6,
   "id": "fae2f53f-0eea-47ad-bfe1-9a3bc5a37a5d",
   "metadata": {},
   "outputs": [
    {
     "name": "stdout",
     "output_type": "stream",
     "text": [
      "Parsing Bakeoff2017 models...\n",
      "\n",
      "Parsing Bakeoff2021 models...\n",
      "\n",
      "Parsing Bakeoff2023 models...\n",
      "\n",
      "Parsing HIVE-COTEV2 models...\n",
      "\n"
     ]
    }
   ],
   "source": [
    "paper_list = get_content_list_from_html(soup_main, 'a')[1:]\n",
    "\n",
    "paper_models_dict = load_model_results(paper_list, METRICS_DIR_NAME, need_download=False)"
   ]
  },
  {
   "cell_type": "code",
   "execution_count": 7,
   "id": "c030aaf2-4339-4fa2-98f5-802ec1f29207",
   "metadata": {},
   "outputs": [
    {
     "data": {
      "text/plain": [
       "dict_keys(['1NN-DTW', 'Arsenal', 'BOSS', 'CIF', 'CNN', 'Catch22', 'DrCIF', 'EE', 'FreshPRINCE', 'HC1', 'HC2', 'Hydra-MR', 'Hydra', 'InceptionT', 'Mini-R', 'MrSQM', 'Multi-R', 'PF', 'RDST', 'RISE', 'ROCKET', 'RSF', 'RSTSF', 'ResNet', 'STC', 'STSF', 'ShapeDTW', 'Signatures', 'TDE', 'TS-CHIEF', 'TSF', 'TSFresh', 'WEASEL-D', 'WEASEL', 'cBOSS'])"
      ]
     },
     "execution_count": 7,
     "metadata": {},
     "output_type": "execute_result"
    }
   ],
   "source": [
    "paper_models_dict['Bakeoff2023'].keys()"
   ]
  },
  {
   "cell_type": "code",
   "execution_count": 8,
   "id": "44ad92a6-9f1f-428c-a408-0619a313d30b",
   "metadata": {},
   "outputs": [
    {
     "name": "stdout",
     "output_type": "stream",
     "text": [
      "Bakeoff2017: 25 models\n",
      "Bakeoff2021: 10 models\n",
      "Bakeoff2023: 35 models\n",
      "HIVE-COTEV2: 18 models\n"
     ]
    }
   ],
   "source": [
    "for paper in paper_models_dict.keys():\n",
    "    print(f\"{paper}: {len(paper_models_dict[paper].keys())} models\")"
   ]
  },
  {
   "cell_type": "code",
   "execution_count": 9,
   "id": "4ce8aad1-3c1d-47c5-95f3-406bf1106738",
   "metadata": {},
   "outputs": [
    {
     "data": {
      "text/html": [
       "<div>\n",
       "<style scoped>\n",
       "    .dataframe tbody tr th:only-of-type {\n",
       "        vertical-align: middle;\n",
       "    }\n",
       "\n",
       "    .dataframe tbody tr th {\n",
       "        vertical-align: top;\n",
       "    }\n",
       "\n",
       "    .dataframe thead th {\n",
       "        text-align: right;\n",
       "    }\n",
       "</style>\n",
       "<table border=\"1\" class=\"dataframe\">\n",
       "  <thead>\n",
       "    <tr style=\"text-align: right;\">\n",
       "      <th></th>\n",
       "      <th>1NN-DTW</th>\n",
       "      <th>Arsenal</th>\n",
       "      <th>BOSS</th>\n",
       "      <th>CIF</th>\n",
       "      <th>CNN</th>\n",
       "      <th>Catch22</th>\n",
       "      <th>DrCIF</th>\n",
       "      <th>EE</th>\n",
       "      <th>FreshPRINCE</th>\n",
       "      <th>HC1</th>\n",
       "      <th>...</th>\n",
       "      <th>STSF</th>\n",
       "      <th>ShapeDTW</th>\n",
       "      <th>Signatures</th>\n",
       "      <th>TDE</th>\n",
       "      <th>TS-CHIEF</th>\n",
       "      <th>TSF</th>\n",
       "      <th>TSFresh</th>\n",
       "      <th>WEASEL-D</th>\n",
       "      <th>WEASEL</th>\n",
       "      <th>cBOSS</th>\n",
       "    </tr>\n",
       "  </thead>\n",
       "  <tbody>\n",
       "    <tr>\n",
       "      <th>row</th>\n",
       "      <td>112</td>\n",
       "      <td>112</td>\n",
       "      <td>112</td>\n",
       "      <td>112</td>\n",
       "      <td>112</td>\n",
       "      <td>112</td>\n",
       "      <td>112</td>\n",
       "      <td>112</td>\n",
       "      <td>142</td>\n",
       "      <td>112</td>\n",
       "      <td>...</td>\n",
       "      <td>112</td>\n",
       "      <td>112</td>\n",
       "      <td>112</td>\n",
       "      <td>112</td>\n",
       "      <td>112</td>\n",
       "      <td>112</td>\n",
       "      <td>112</td>\n",
       "      <td>142</td>\n",
       "      <td>112</td>\n",
       "      <td>112</td>\n",
       "    </tr>\n",
       "    <tr>\n",
       "      <th>col</th>\n",
       "      <td>31</td>\n",
       "      <td>31</td>\n",
       "      <td>31</td>\n",
       "      <td>31</td>\n",
       "      <td>31</td>\n",
       "      <td>31</td>\n",
       "      <td>31</td>\n",
       "      <td>31</td>\n",
       "      <td>31</td>\n",
       "      <td>31</td>\n",
       "      <td>...</td>\n",
       "      <td>31</td>\n",
       "      <td>31</td>\n",
       "      <td>31</td>\n",
       "      <td>31</td>\n",
       "      <td>31</td>\n",
       "      <td>31</td>\n",
       "      <td>31</td>\n",
       "      <td>31</td>\n",
       "      <td>31</td>\n",
       "      <td>31</td>\n",
       "    </tr>\n",
       "  </tbody>\n",
       "</table>\n",
       "<p>2 rows × 35 columns</p>\n",
       "</div>"
      ],
      "text/plain": [
       "     1NN-DTW  Arsenal  BOSS  CIF  CNN  Catch22  DrCIF   EE  FreshPRINCE  HC1  \\\n",
       "row      112      112   112  112  112      112    112  112          142  112   \n",
       "col       31       31    31   31   31       31     31   31           31   31   \n",
       "\n",
       "     ...  STSF  ShapeDTW  Signatures  TDE  TS-CHIEF  TSF  TSFresh  WEASEL-D  \\\n",
       "row  ...   112       112         112  112       112  112      112       142   \n",
       "col  ...    31        31          31   31        31   31       31        31   \n",
       "\n",
       "     WEASEL  cBOSS  \n",
       "row     112    112  \n",
       "col      31     31  \n",
       "\n",
       "[2 rows x 35 columns]"
      ]
     },
     "execution_count": 9,
     "metadata": {},
     "output_type": "execute_result"
    }
   ],
   "source": [
    "find_shape_of_datasets(paper_models_dict['Bakeoff2023'])"
   ]
  },
  {
   "cell_type": "markdown",
   "id": "1f9ff8f5-c615-4442-a07b-c8b0d8c2f708",
   "metadata": {},
   "source": [
    "### Part 2: Downloading Datasets"
   ]
  },
  {
   "cell_type": "code",
   "execution_count": 10,
   "id": "69e9468f-0b26-4eb8-ad10-1921611a9a44",
   "metadata": {},
   "outputs": [],
   "source": [
    "from src.data_loader import get_size_of_file_in_mb, process_datasets, load_datasets_from_json"
   ]
  },
  {
   "cell_type": "code",
   "execution_count": 11,
   "id": "41ca5232-1eaa-4c58-8c37-6029f490d013",
   "metadata": {},
   "outputs": [],
   "source": [
    "dataset_lists = paper_models_dict['Bakeoff2023']['Arsenal'].iloc[:,0]"
   ]
  },
  {
   "cell_type": "code",
   "execution_count": 12,
   "id": "22cbe73f-18e5-49ac-9372-e64c50aa1262",
   "metadata": {},
   "outputs": [
    {
     "name": "stdout",
     "output_type": "stream",
     "text": [
      " Shape of X =  (781, 1, 176)\n",
      " Meta data =  {'problemname': 'adiac', 'timestamps': False, 'missing': False, 'univariate': True, 'equallength': True, 'classlabel': True, 'targetlabel': False, 'class_values': ['1', '2', '3', '4', '5', '6', '7', '8', '9', '10', '11', '12', '13', '14', '15', '16', '17', '18', '19', '20', '21', '22', '23', '24', '25', '26', '27', '28', '29', '30', '31', '32', '33', '34', '35', '36', '37']}\n"
     ]
    }
   ],
   "source": [
    "from aeon.datasets import load_classification\n",
    "X, y, meta_data = load_classification(dataset_lists[0], return_metadata=True)\n",
    "print(\" Shape of X = \", X.shape)\n",
    "print(\" Meta data = \", meta_data)"
   ]
  },
  {
   "cell_type": "code",
   "execution_count": 13,
   "id": "6e4c5d6a-e77a-47c1-a1d2-ecbf102df1f5",
   "metadata": {},
   "outputs": [],
   "source": [
    "# [(a, b) for a, b  in enumerate(dataset_lists)]"
   ]
  },
  {
   "cell_type": "code",
   "execution_count": 14,
   "id": "10a1224d-294b-435e-81c9-9e4586de19f3",
   "metadata": {
    "scrolled": true
   },
   "outputs": [
    {
     "name": "stdout",
     "output_type": "stream",
     "text": [
      "Saved 'Adiac.json' successfully. Size: 1.58 MB.\n",
      "Saved 'ArrowHead.json' successfully. Size: 0.61 MB.\n",
      "Saved 'Beef.json' successfully. Size: 0.33 MB.\n",
      "Saved 'BeetleFly.json' successfully. Size: 0.24 MB.\n",
      "Saved 'BirdChicken.json' successfully. Size: 0.24 MB.\n",
      "Saved 'Car.json' successfully. Size: 0.79 MB.\n",
      "Saved 'CBF.json' successfully. Size: 1.38 MB.\n",
      "Saved 'ChlorineConcentration.json' successfully. Size: 8.5 MB.\n",
      "Saved 'CinCECGTorso.json' successfully. Size: 27.72 MB.\n",
      "Saved 'Coffee.json' successfully. Size: 0.18 MB.\n",
      "Saved 'Computers.json' successfully. Size: 4.32 MB.\n",
      "Saved 'CricketX.json' successfully. Size: 2.75 MB.\n",
      "Saved 'CricketY.json' successfully. Size: 2.73 MB.\n",
      "Saved 'CricketZ.json' successfully. Size: 2.75 MB.\n",
      "Saved 'DiatomSizeReduction.json' successfully. Size: 1.28 MB.\n",
      "Saved 'DistalPhalanxOutlineAgeGroup.json' successfully. Size: 0.5 MB.\n",
      "Saved 'DistalPhalanxOutlineCorrect.json' successfully. Size: 0.81 MB.\n",
      "Saved 'DistalPhalanxTW.json' successfully. Size: 0.5 MB.\n",
      "Saved 'Earthquakes.json' successfully. Size: 2.83 MB.\n",
      "Saved 'ECG200.json' successfully. Size: 0.22 MB.\n",
      "Saved 'ECG5000.json' successfully. Size: 8.21 MB.\n",
      "Saved 'ECGFiveDays.json' successfully. Size: 1.46 MB.\n",
      "Saved 'ElectricDevices.json' successfully. Size: 19.2 MB.\n",
      "Saved 'FaceAll.json' successfully. Size: 3.47 MB.\n",
      "Saved 'FaceFour.json' successfully. Size: 0.46 MB.\n",
      "Saved 'FacesUCR.json' successfully. Size: 3.47 MB.\n",
      "Saved 'FiftyWords.json' successfully. Size: 2.9 MB.\n",
      "Saved 'Fish.json' successfully. Size: 1.86 MB.\n",
      "Saved 'FordA.json' successfully. Size: 28.57 MB.\n",
      "Saved 'FordB.json' successfully. Size: 25.84 MB.\n",
      "Saved 'GunPoint.json' successfully. Size: 0.35 MB.\n",
      "Saved 'Ham.json' successfully. Size: 1.1 MB.\n",
      "Saved 'HandOutlines.json' successfully. Size: 42.64 MB.\n",
      "Saved 'Haptics.json' successfully. Size: 5.87 MB.\n",
      "Saved 'Herring.json' successfully. Size: 0.76 MB.\n",
      "Saved 'InlineSkate.json' successfully. Size: 14.39 MB.\n",
      "Saved 'InsectWingbeatSound.json' successfully. Size: 6.79 MB.\n",
      "Saved 'ItalyPowerDemand.json' successfully. Size: 0.31 MB.\n",
      "Saved 'LargeKitchenAppliances.json' successfully. Size: 6.64 MB.\n",
      "Saved 'Lightning2.json' successfully. Size: 0.93 MB.\n",
      "Saved 'Lightning7.json' successfully. Size: 0.55 MB.\n",
      "Saved 'Mallat.json' successfully. Size: 28.37 MB.\n",
      "Saved 'Meat.json' successfully. Size: 0.64 MB.\n",
      "Saved 'MedicalImages.json' successfully. Size: 1.36 MB.\n",
      "Saved 'MiddlePhalanxOutlineAgeGroup.json' successfully. Size: 0.51 MB.\n",
      "Saved 'MiddlePhalanxOutlineCorrect.json' successfully. Size: 0.82 MB.\n",
      "Saved 'MiddlePhalanxTW.json' successfully. Size: 0.51 MB.\n",
      "Saved 'MoteStrain.json' successfully. Size: 1.25 MB.\n",
      "Saved 'NonInvasiveFetalECGThorax1.json' successfully. Size: 33.4 MB.\n",
      "Saved 'NonInvasiveFetalECGThorax2.json' successfully. Size: 33.41 MB.\n",
      "Saved 'OliveOil.json' successfully. Size: 0.41 MB.\n",
      "Saved 'OSULeaf.json' successfully. Size: 2.19 MB.\n",
      "Saved 'PhalangesOutlinesCorrect.json' successfully. Size: 2.45 MB.\n",
      "Saved 'Phoneme.json' successfully. Size: 25.35 MB.\n",
      "Saved 'Plane.json' successfully. Size: 0.35 MB.\n",
      "Saved 'ProximalPhalanxOutlineAgeGroup.json' successfully. Size: 0.56 MB.\n",
      "Saved 'ProximalPhalanxOutlineCorrect.json' successfully. Size: 0.82 MB.\n",
      "Saved 'ProximalPhalanxTW.json' successfully. Size: 0.56 MB.\n",
      "Saved 'RefrigerationDevices.json' successfully. Size: 6.33 MB.\n",
      "Saved 'ScreenType.json' successfully. Size: 6.41 MB.\n",
      "Saved 'ShapeletSim.json' successfully. Size: 1.15 MB.\n",
      "Saved 'ShapesAll.json' successfully. Size: 7.08 MB.\n",
      "Saved 'SmallKitchenAppliances.json' successfully. Size: 6.94 MB.\n",
      "Saved 'SonyAIBORobotSurface1.json' successfully. Size: 0.51 MB.\n",
      "Saved 'SonyAIBORobotSurface2.json' successfully. Size: 0.76 MB.\n",
      "Saved 'Strawberry.json' successfully. Size: 2.74 MB.\n",
      "Saved 'StarLightCurves.json' successfully. Size: 109.71 MB.\n",
      "Saved 'SwedishLeaf.json' successfully. Size: 1.67 MB.\n",
      "Saved 'Symbols.json' successfully. Size: 4.68 MB.\n",
      "Saved 'SyntheticControl.json' successfully. Size: 0.42 MB.\n",
      "Saved 'ToeSegmentation1.json' successfully. Size: 0.87 MB.\n",
      "Saved 'ToeSegmentation2.json' successfully. Size: 0.67 MB.\n",
      "Saved 'Trace.json' successfully. Size: 0.63 MB.\n",
      "Saved 'TwoLeadECG.json' successfully. Size: 1.12 MB.\n",
      "Saved 'TwoPatterns.json' successfully. Size: 7.48 MB.\n",
      "Saved 'UWaveGestureLibraryAll.json' successfully. Size: 48.58 MB.\n",
      "Saved 'UWaveGestureLibraryX.json' successfully. Size: 16.31 MB.\n",
      "Saved 'UWaveGestureLibraryY.json' successfully. Size: 16.29 MB.\n",
      "Saved 'UWaveGestureLibraryZ.json' successfully. Size: 16.31 MB.\n",
      "Saved 'Wafer.json' successfully. Size: 12.46 MB.\n",
      "Saved 'Wine.json' successfully. Size: 0.31 MB.\n",
      "Saved 'WordSynonyms.json' successfully. Size: 2.82 MB.\n",
      "Saved 'Worms.json' successfully. Size: 2.69 MB.\n",
      "Saved 'WormsTwoClass.json' successfully. Size: 2.69 MB.\n",
      "Saved 'Yoga.json' successfully. Size: 16.21 MB.\n",
      "Saved 'ACSF1.json' successfully. Size: 3.44 MB.\n",
      "Saved 'BME.json' successfully. Size: 0.23 MB.\n",
      "Saved 'EthanolLevel.json' successfully. Size: 20.54 MB.\n",
      "Saved 'FreezerRegularTrain.json' successfully. Size: 10.26 MB.\n",
      "Saved 'FreezerSmallTrain.json' successfully. Size: 9.84 MB.\n",
      "Saved 'GunPointAgeSpan.json' successfully. Size: 0.71 MB.\n",
      "Saved 'GunPointMaleVersusFemale.json' successfully. Size: 0.71 MB.\n",
      "Saved 'GunPointOldVersusYoung.json' successfully. Size: 0.71 MB.\n",
      "Saved 'InsectEPGRegularTrain.json' successfully. Size: 1.61 MB.\n",
      "Saved 'InsectEPGSmallTrain.json' successfully. Size: 1.37 MB.\n",
      "Saved 'PigAirwayPressure.json' successfully. Size: 6.3 MB.\n",
      "Saved 'PigArtPressure.json' successfully. Size: 6.48 MB.\n",
      "Saved 'PigCVP.json' successfully. Size: 6.34 MB.\n",
      "Saved 'PowerCons.json' successfully. Size: 0.3 MB.\n",
      "Saved 'SmoothSubspace.json' successfully. Size: 0.05 MB.\n",
      "Saved 'UMD.json' successfully. Size: 0.28 MB.\n",
      "Saved 'HouseTwenty.json' successfully. Size: 2.18 MB.\n",
      "Saved 'SemgHandGenderCh2.json' successfully. Size: 14.06 MB.\n",
      "Saved 'SemgHandMovementCh2.json' successfully. Size: 14.06 MB.\n",
      "Saved 'SemgHandSubjectCh2.json' successfully. Size: 14.06 MB.\n",
      "Saved 'MixedShapesRegularTrain.json' successfully. Size: 34.54 MB.\n",
      "Saved 'MixedShapesSmallTrain.json' successfully. Size: 29.82 MB.\n",
      "Saved 'EOGHorizontalSignal.json' successfully. Size: 7.36 MB.\n",
      "Saved 'EOGVerticalSignal.json' successfully. Size: 7.39 MB.\n",
      "Saved 'Rock.json' successfully. Size: 1.55 MB.\n",
      "Saved 'Crop.json' successfully. Size: 7.74 MB.\n",
      "Saved 'Chinatown.json' successfully. Size: 0.06 MB.\n",
      "\n",
      "=== Processing Summary ===\n",
      "Total datasets to process: 112\n",
      "Successfully saved JSON files for 112 datasets.\n",
      "Number of problematic datasets: 0\n",
      "CPU times: user 39.9 s, sys: 1.35 s, total: 41.2 s\n",
      "Wall time: 41.6 s\n"
     ]
    }
   ],
   "source": [
    "%%time\n",
    "file_sizes_mb, problematic_datasets = process_datasets(dataset_lists, DATASET_DIR_NAME)"
   ]
  },
  {
   "cell_type": "code",
   "execution_count": 15,
   "id": "d83de53d-4649-4358-a370-ef31f9a0c260",
   "metadata": {},
   "outputs": [
    {
     "data": {
      "text/plain": [
       "[]"
      ]
     },
     "execution_count": 15,
     "metadata": {},
     "output_type": "execute_result"
    }
   ],
   "source": [
    "problematic_datasets"
   ]
  },
  {
   "cell_type": "code",
   "execution_count": 16,
   "id": "32626cb9-f4f4-4f73-a028-ebdd3babc531",
   "metadata": {},
   "outputs": [
    {
     "data": {
      "text/plain": [
       "109.71"
      ]
     },
     "execution_count": 16,
     "metadata": {},
     "output_type": "execute_result"
    }
   ],
   "source": [
    "get_size_of_file_in_mb(DATASET_DIR_NAME + '/' + 'StarLightCurves.json')"
   ]
  },
  {
   "cell_type": "code",
   "execution_count": 17,
   "id": "f2a976d4-1619-4cf8-ad18-a4b61cb37b9a",
   "metadata": {},
   "outputs": [
    {
     "data": {
      "text/plain": [
       "StarLightCurves               109.71\n",
       "UWaveGestureLibraryAll         48.58\n",
       "HandOutlines                   42.64\n",
       "MixedShapesRegularTrain        34.54\n",
       "NonInvasiveFetalECGThorax2     33.41\n",
       "NonInvasiveFetalECGThorax1     33.40\n",
       "MixedShapesSmallTrain          29.82\n",
       "FordA                          28.57\n",
       "Mallat                         28.37\n",
       "CinCECGTorso                   27.72\n",
       "FordB                          25.84\n",
       "Phoneme                        25.35\n",
       "EthanolLevel                   20.54\n",
       "ElectricDevices                19.20\n",
       "UWaveGestureLibraryX           16.31\n",
       "UWaveGestureLibraryZ           16.31\n",
       "UWaveGestureLibraryY           16.29\n",
       "Yoga                           16.21\n",
       "InlineSkate                    14.39\n",
       "SemgHandGenderCh2              14.06\n",
       "SemgHandMovementCh2            14.06\n",
       "SemgHandSubjectCh2             14.06\n",
       "Wafer                          12.46\n",
       "FreezerRegularTrain            10.26\n",
       "FreezerSmallTrain               9.84\n",
       "dtype: float64"
      ]
     },
     "execution_count": 17,
     "metadata": {},
     "output_type": "execute_result"
    }
   ],
   "source": [
    "pd.Series(file_sizes_mb).sort_values(ascending=False).head(25)"
   ]
  },
  {
   "cell_type": "code",
   "execution_count": 19,
   "id": "261347cc-f599-4c8b-9f3c-76099acb1c8a",
   "metadata": {},
   "outputs": [
    {
     "name": "stderr",
     "output_type": "stream",
     "text": [
      "100%|█████████████████████████████████████████████████████████████████████████████████| 112/112 [00:06<00:00, 17.82it/s]\n"
     ]
    }
   ],
   "source": [
    "loaded_datasets = load_datasets_from_json(dataset_lists, DATASET_DIR_NAME)"
   ]
  },
  {
   "cell_type": "code",
   "execution_count": 21,
   "id": "19f27ec1-e9d8-433d-9aef-e6ab4349d7fa",
   "metadata": {},
   "outputs": [
    {
     "data": {
      "text/plain": [
       "dict_keys(['Adiac', 'ArrowHead', 'Beef', 'BeetleFly', 'BirdChicken', 'Car', 'CBF', 'ChlorineConcentration', 'CinCECGTorso', 'Coffee', 'Computers', 'CricketX', 'CricketY', 'CricketZ', 'DiatomSizeReduction', 'DistalPhalanxOutlineAgeGroup', 'DistalPhalanxOutlineCorrect', 'DistalPhalanxTW', 'Earthquakes', 'ECG200', 'ECG5000', 'ECGFiveDays', 'ElectricDevices', 'FaceAll', 'FaceFour', 'FacesUCR', 'FiftyWords', 'Fish', 'FordA', 'FordB', 'GunPoint', 'Ham', 'HandOutlines', 'Haptics', 'Herring', 'InlineSkate', 'InsectWingbeatSound', 'ItalyPowerDemand', 'LargeKitchenAppliances', 'Lightning2', 'Lightning7', 'Mallat', 'Meat', 'MedicalImages', 'MiddlePhalanxOutlineAgeGroup', 'MiddlePhalanxOutlineCorrect', 'MiddlePhalanxTW', 'MoteStrain', 'NonInvasiveFetalECGThorax1', 'NonInvasiveFetalECGThorax2', 'OliveOil', 'OSULeaf', 'PhalangesOutlinesCorrect', 'Phoneme', 'Plane', 'ProximalPhalanxOutlineAgeGroup', 'ProximalPhalanxOutlineCorrect', 'ProximalPhalanxTW', 'RefrigerationDevices', 'ScreenType', 'ShapeletSim', 'ShapesAll', 'SmallKitchenAppliances', 'SonyAIBORobotSurface1', 'SonyAIBORobotSurface2', 'Strawberry', 'StarLightCurves', 'SwedishLeaf', 'Symbols', 'SyntheticControl', 'ToeSegmentation1', 'ToeSegmentation2', 'Trace', 'TwoLeadECG', 'TwoPatterns', 'UWaveGestureLibraryAll', 'UWaveGestureLibraryX', 'UWaveGestureLibraryY', 'UWaveGestureLibraryZ', 'Wafer', 'Wine', 'WordSynonyms', 'Worms', 'WormsTwoClass', 'Yoga', 'ACSF1', 'BME', 'EthanolLevel', 'FreezerRegularTrain', 'FreezerSmallTrain', 'GunPointAgeSpan', 'GunPointMaleVersusFemale', 'GunPointOldVersusYoung', 'InsectEPGRegularTrain', 'InsectEPGSmallTrain', 'PigAirwayPressure', 'PigArtPressure', 'PigCVP', 'PowerCons', 'SmoothSubspace', 'UMD', 'HouseTwenty', 'SemgHandGenderCh2', 'SemgHandMovementCh2', 'SemgHandSubjectCh2', 'MixedShapesRegularTrain', 'MixedShapesSmallTrain', 'EOGHorizontalSignal', 'EOGVerticalSignal', 'Rock', 'Crop', 'Chinatown'])"
      ]
     },
     "execution_count": 21,
     "metadata": {},
     "output_type": "execute_result"
    }
   ],
   "source": [
    "loaded_datasets.keys()"
   ]
  },
  {
   "cell_type": "code",
   "execution_count": 20,
   "id": "32259763-9c35-48fd-8f5b-9d82b2d834d8",
   "metadata": {},
   "outputs": [
    {
     "name": "stdout",
     "output_type": "stream",
     "text": [
      "(781, 1, 176) (781,)\n",
      "dict_keys(['problemname', 'timestamps', 'missing', 'univariate', 'equallength', 'classlabel', 'targetlabel', 'class_values'])\n"
     ]
    }
   ],
   "source": [
    "X_adiac, y_adiac, meta_data_adiac = loaded_datasets['Adiac']\n",
    "print(X_adiac.shape, y_adiac.shape)\n",
    "print(meta_data_adiac.keys())"
   ]
  },
  {
   "cell_type": "markdown",
   "id": "e2fe9fb6-5d04-4db9-804e-01b2703f754f",
   "metadata": {},
   "source": [
    "__длина TS, dim , num of classes (=2, >2), джинни/энтрпия для дисбаланса классов, type__"
   ]
  },
  {
   "cell_type": "code",
   "execution_count": null,
   "id": "0ad1180b-8438-415d-b85b-e8e79fb1e77b",
   "metadata": {},
   "outputs": [],
   "source": []
  }
 ],
 "metadata": {
  "kernelspec": {
   "display_name": "Python 3 (ipykernel)",
   "language": "python",
   "name": "python3"
  },
  "language_info": {
   "codemirror_mode": {
    "name": "ipython",
    "version": 3
   },
   "file_extension": ".py",
   "mimetype": "text/x-python",
   "name": "python",
   "nbconvert_exporter": "python",
   "pygments_lexer": "ipython3",
   "version": "3.10.12"
  }
 },
 "nbformat": 4,
 "nbformat_minor": 5
}
